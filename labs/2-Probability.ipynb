{
  "cells": [
    {
      "cell_type": "markdown",
      "metadata": {
        "id": "YXcarRrsfHsE"
      },
      "source": [
        "\n",
        "<div align=\"center\">\n",
        "\n",
        "[![Open in Colab](https://colab.research.google.com/assets/colab-badge.svg)](https://colab.research.google.com/github/xiangtgao/DS-UA_201-Causal-Inference-Spring-2025/blob/main/labs/2-Probability.ipynb)\n",
        "\n",
        "</div>\n",
        "\n",
        "\n",
        "\n",
        "\n"
      ]
    },
    {
      "cell_type": "markdown",
      "source": [
        "$$\n",
        "\\begin{array}{c}\n",
        "\\textbf{CAUSAL INFERENCE}\\\\\\\\\n",
        "\\textbf{Xiang Gao} \\\\\n",
        "\\textit{Center for Data Science, New York University} \\\\\\\\\n",
        "\\textit{January 31, 2025}\\\\\\\\\\\\\n",
        "\\text{Materials prepared by: Daniela Pinto Veizaga, Xiang Pan, and Xiang Gao}\n",
        "\\end{array}\n",
        "$$\n",
        "\n",
        "---"
      ],
      "metadata": {
        "id": "cswu2WhClte7"
      }
    },
    {
      "cell_type": "markdown",
      "metadata": {
        "id": "6NapVvcOfHsI"
      },
      "source": [
        "## Joint Probability"
      ]
    },
    {
      "cell_type": "code",
      "execution_count": 1,
      "metadata": {
        "id": "WecMRRORfHsG"
      },
      "outputs": [],
      "source": [
        "import numpy as np\n",
        "import matplotlib.pyplot as plt\n",
        "import pandas as pd"
      ]
    },
    {
      "cell_type": "code",
      "execution_count": 2,
      "metadata": {
        "id": "E2mk-6MHfHsJ"
      },
      "outputs": [],
      "source": [
        "df = pd.read_csv(f\"2-data.csv\")"
      ]
    },
    {
      "cell_type": "code",
      "execution_count": 3,
      "metadata": {
        "id": "cBc8el7AfHsJ",
        "outputId": "43576aa3-07f6-494e-bb54-0f4dd0b085ec",
        "colab": {
          "base_uri": "https://localhost:8080/",
          "height": 424
        }
      },
      "outputs": [
        {
          "output_type": "execute_result",
          "data": {
            "text/plain": [
              "      Height  Weight     Sex\n",
              "0     165.65   35.41  Female\n",
              "1     148.53   74.45  Female\n",
              "2     167.04   81.22    Male\n",
              "3     161.54   71.47    Male\n",
              "4     174.31   78.18    Male\n",
              "...      ...     ...     ...\n",
              "2995  150.83   49.66  Female\n",
              "2996  157.09   64.34  Female\n",
              "2997  162.99   45.58  Female\n",
              "2998  154.76   48.92  Female\n",
              "2999  185.08   82.74    Male\n",
              "\n",
              "[3000 rows x 3 columns]"
            ],
            "text/html": [
              "\n",
              "  <div id=\"df-cf70522a-8f1b-4e1f-a275-a86f9cb9eda0\" class=\"colab-df-container\">\n",
              "    <div>\n",
              "<style scoped>\n",
              "    .dataframe tbody tr th:only-of-type {\n",
              "        vertical-align: middle;\n",
              "    }\n",
              "\n",
              "    .dataframe tbody tr th {\n",
              "        vertical-align: top;\n",
              "    }\n",
              "\n",
              "    .dataframe thead th {\n",
              "        text-align: right;\n",
              "    }\n",
              "</style>\n",
              "<table border=\"1\" class=\"dataframe\">\n",
              "  <thead>\n",
              "    <tr style=\"text-align: right;\">\n",
              "      <th></th>\n",
              "      <th>Height</th>\n",
              "      <th>Weight</th>\n",
              "      <th>Sex</th>\n",
              "    </tr>\n",
              "  </thead>\n",
              "  <tbody>\n",
              "    <tr>\n",
              "      <th>0</th>\n",
              "      <td>165.65</td>\n",
              "      <td>35.41</td>\n",
              "      <td>Female</td>\n",
              "    </tr>\n",
              "    <tr>\n",
              "      <th>1</th>\n",
              "      <td>148.53</td>\n",
              "      <td>74.45</td>\n",
              "      <td>Female</td>\n",
              "    </tr>\n",
              "    <tr>\n",
              "      <th>2</th>\n",
              "      <td>167.04</td>\n",
              "      <td>81.22</td>\n",
              "      <td>Male</td>\n",
              "    </tr>\n",
              "    <tr>\n",
              "      <th>3</th>\n",
              "      <td>161.54</td>\n",
              "      <td>71.47</td>\n",
              "      <td>Male</td>\n",
              "    </tr>\n",
              "    <tr>\n",
              "      <th>4</th>\n",
              "      <td>174.31</td>\n",
              "      <td>78.18</td>\n",
              "      <td>Male</td>\n",
              "    </tr>\n",
              "    <tr>\n",
              "      <th>...</th>\n",
              "      <td>...</td>\n",
              "      <td>...</td>\n",
              "      <td>...</td>\n",
              "    </tr>\n",
              "    <tr>\n",
              "      <th>2995</th>\n",
              "      <td>150.83</td>\n",
              "      <td>49.66</td>\n",
              "      <td>Female</td>\n",
              "    </tr>\n",
              "    <tr>\n",
              "      <th>2996</th>\n",
              "      <td>157.09</td>\n",
              "      <td>64.34</td>\n",
              "      <td>Female</td>\n",
              "    </tr>\n",
              "    <tr>\n",
              "      <th>2997</th>\n",
              "      <td>162.99</td>\n",
              "      <td>45.58</td>\n",
              "      <td>Female</td>\n",
              "    </tr>\n",
              "    <tr>\n",
              "      <th>2998</th>\n",
              "      <td>154.76</td>\n",
              "      <td>48.92</td>\n",
              "      <td>Female</td>\n",
              "    </tr>\n",
              "    <tr>\n",
              "      <th>2999</th>\n",
              "      <td>185.08</td>\n",
              "      <td>82.74</td>\n",
              "      <td>Male</td>\n",
              "    </tr>\n",
              "  </tbody>\n",
              "</table>\n",
              "<p>3000 rows × 3 columns</p>\n",
              "</div>\n",
              "    <div class=\"colab-df-buttons\">\n",
              "\n",
              "  <div class=\"colab-df-container\">\n",
              "    <button class=\"colab-df-convert\" onclick=\"convertToInteractive('df-cf70522a-8f1b-4e1f-a275-a86f9cb9eda0')\"\n",
              "            title=\"Convert this dataframe to an interactive table.\"\n",
              "            style=\"display:none;\">\n",
              "\n",
              "  <svg xmlns=\"http://www.w3.org/2000/svg\" height=\"24px\" viewBox=\"0 -960 960 960\">\n",
              "    <path d=\"M120-120v-720h720v720H120Zm60-500h600v-160H180v160Zm220 220h160v-160H400v160Zm0 220h160v-160H400v160ZM180-400h160v-160H180v160Zm440 0h160v-160H620v160ZM180-180h160v-160H180v160Zm440 0h160v-160H620v160Z\"/>\n",
              "  </svg>\n",
              "    </button>\n",
              "\n",
              "  <style>\n",
              "    .colab-df-container {\n",
              "      display:flex;\n",
              "      gap: 12px;\n",
              "    }\n",
              "\n",
              "    .colab-df-convert {\n",
              "      background-color: #E8F0FE;\n",
              "      border: none;\n",
              "      border-radius: 50%;\n",
              "      cursor: pointer;\n",
              "      display: none;\n",
              "      fill: #1967D2;\n",
              "      height: 32px;\n",
              "      padding: 0 0 0 0;\n",
              "      width: 32px;\n",
              "    }\n",
              "\n",
              "    .colab-df-convert:hover {\n",
              "      background-color: #E2EBFA;\n",
              "      box-shadow: 0px 1px 2px rgba(60, 64, 67, 0.3), 0px 1px 3px 1px rgba(60, 64, 67, 0.15);\n",
              "      fill: #174EA6;\n",
              "    }\n",
              "\n",
              "    .colab-df-buttons div {\n",
              "      margin-bottom: 4px;\n",
              "    }\n",
              "\n",
              "    [theme=dark] .colab-df-convert {\n",
              "      background-color: #3B4455;\n",
              "      fill: #D2E3FC;\n",
              "    }\n",
              "\n",
              "    [theme=dark] .colab-df-convert:hover {\n",
              "      background-color: #434B5C;\n",
              "      box-shadow: 0px 1px 3px 1px rgba(0, 0, 0, 0.15);\n",
              "      filter: drop-shadow(0px 1px 2px rgba(0, 0, 0, 0.3));\n",
              "      fill: #FFFFFF;\n",
              "    }\n",
              "  </style>\n",
              "\n",
              "    <script>\n",
              "      const buttonEl =\n",
              "        document.querySelector('#df-cf70522a-8f1b-4e1f-a275-a86f9cb9eda0 button.colab-df-convert');\n",
              "      buttonEl.style.display =\n",
              "        google.colab.kernel.accessAllowed ? 'block' : 'none';\n",
              "\n",
              "      async function convertToInteractive(key) {\n",
              "        const element = document.querySelector('#df-cf70522a-8f1b-4e1f-a275-a86f9cb9eda0');\n",
              "        const dataTable =\n",
              "          await google.colab.kernel.invokeFunction('convertToInteractive',\n",
              "                                                    [key], {});\n",
              "        if (!dataTable) return;\n",
              "\n",
              "        const docLinkHtml = 'Like what you see? Visit the ' +\n",
              "          '<a target=\"_blank\" href=https://colab.research.google.com/notebooks/data_table.ipynb>data table notebook</a>'\n",
              "          + ' to learn more about interactive tables.';\n",
              "        element.innerHTML = '';\n",
              "        dataTable['output_type'] = 'display_data';\n",
              "        await google.colab.output.renderOutput(dataTable, element);\n",
              "        const docLink = document.createElement('div');\n",
              "        docLink.innerHTML = docLinkHtml;\n",
              "        element.appendChild(docLink);\n",
              "      }\n",
              "    </script>\n",
              "  </div>\n",
              "\n",
              "\n",
              "<div id=\"df-efdc5cf9-620d-47dd-ac8b-3dc80948b57f\">\n",
              "  <button class=\"colab-df-quickchart\" onclick=\"quickchart('df-efdc5cf9-620d-47dd-ac8b-3dc80948b57f')\"\n",
              "            title=\"Suggest charts\"\n",
              "            style=\"display:none;\">\n",
              "\n",
              "<svg xmlns=\"http://www.w3.org/2000/svg\" height=\"24px\"viewBox=\"0 0 24 24\"\n",
              "     width=\"24px\">\n",
              "    <g>\n",
              "        <path d=\"M19 3H5c-1.1 0-2 .9-2 2v14c0 1.1.9 2 2 2h14c1.1 0 2-.9 2-2V5c0-1.1-.9-2-2-2zM9 17H7v-7h2v7zm4 0h-2V7h2v10zm4 0h-2v-4h2v4z\"/>\n",
              "    </g>\n",
              "</svg>\n",
              "  </button>\n",
              "\n",
              "<style>\n",
              "  .colab-df-quickchart {\n",
              "      --bg-color: #E8F0FE;\n",
              "      --fill-color: #1967D2;\n",
              "      --hover-bg-color: #E2EBFA;\n",
              "      --hover-fill-color: #174EA6;\n",
              "      --disabled-fill-color: #AAA;\n",
              "      --disabled-bg-color: #DDD;\n",
              "  }\n",
              "\n",
              "  [theme=dark] .colab-df-quickchart {\n",
              "      --bg-color: #3B4455;\n",
              "      --fill-color: #D2E3FC;\n",
              "      --hover-bg-color: #434B5C;\n",
              "      --hover-fill-color: #FFFFFF;\n",
              "      --disabled-bg-color: #3B4455;\n",
              "      --disabled-fill-color: #666;\n",
              "  }\n",
              "\n",
              "  .colab-df-quickchart {\n",
              "    background-color: var(--bg-color);\n",
              "    border: none;\n",
              "    border-radius: 50%;\n",
              "    cursor: pointer;\n",
              "    display: none;\n",
              "    fill: var(--fill-color);\n",
              "    height: 32px;\n",
              "    padding: 0;\n",
              "    width: 32px;\n",
              "  }\n",
              "\n",
              "  .colab-df-quickchart:hover {\n",
              "    background-color: var(--hover-bg-color);\n",
              "    box-shadow: 0 1px 2px rgba(60, 64, 67, 0.3), 0 1px 3px 1px rgba(60, 64, 67, 0.15);\n",
              "    fill: var(--button-hover-fill-color);\n",
              "  }\n",
              "\n",
              "  .colab-df-quickchart-complete:disabled,\n",
              "  .colab-df-quickchart-complete:disabled:hover {\n",
              "    background-color: var(--disabled-bg-color);\n",
              "    fill: var(--disabled-fill-color);\n",
              "    box-shadow: none;\n",
              "  }\n",
              "\n",
              "  .colab-df-spinner {\n",
              "    border: 2px solid var(--fill-color);\n",
              "    border-color: transparent;\n",
              "    border-bottom-color: var(--fill-color);\n",
              "    animation:\n",
              "      spin 1s steps(1) infinite;\n",
              "  }\n",
              "\n",
              "  @keyframes spin {\n",
              "    0% {\n",
              "      border-color: transparent;\n",
              "      border-bottom-color: var(--fill-color);\n",
              "      border-left-color: var(--fill-color);\n",
              "    }\n",
              "    20% {\n",
              "      border-color: transparent;\n",
              "      border-left-color: var(--fill-color);\n",
              "      border-top-color: var(--fill-color);\n",
              "    }\n",
              "    30% {\n",
              "      border-color: transparent;\n",
              "      border-left-color: var(--fill-color);\n",
              "      border-top-color: var(--fill-color);\n",
              "      border-right-color: var(--fill-color);\n",
              "    }\n",
              "    40% {\n",
              "      border-color: transparent;\n",
              "      border-right-color: var(--fill-color);\n",
              "      border-top-color: var(--fill-color);\n",
              "    }\n",
              "    60% {\n",
              "      border-color: transparent;\n",
              "      border-right-color: var(--fill-color);\n",
              "    }\n",
              "    80% {\n",
              "      border-color: transparent;\n",
              "      border-right-color: var(--fill-color);\n",
              "      border-bottom-color: var(--fill-color);\n",
              "    }\n",
              "    90% {\n",
              "      border-color: transparent;\n",
              "      border-bottom-color: var(--fill-color);\n",
              "    }\n",
              "  }\n",
              "</style>\n",
              "\n",
              "  <script>\n",
              "    async function quickchart(key) {\n",
              "      const quickchartButtonEl =\n",
              "        document.querySelector('#' + key + ' button');\n",
              "      quickchartButtonEl.disabled = true;  // To prevent multiple clicks.\n",
              "      quickchartButtonEl.classList.add('colab-df-spinner');\n",
              "      try {\n",
              "        const charts = await google.colab.kernel.invokeFunction(\n",
              "            'suggestCharts', [key], {});\n",
              "      } catch (error) {\n",
              "        console.error('Error during call to suggestCharts:', error);\n",
              "      }\n",
              "      quickchartButtonEl.classList.remove('colab-df-spinner');\n",
              "      quickchartButtonEl.classList.add('colab-df-quickchart-complete');\n",
              "    }\n",
              "    (() => {\n",
              "      let quickchartButtonEl =\n",
              "        document.querySelector('#df-efdc5cf9-620d-47dd-ac8b-3dc80948b57f button');\n",
              "      quickchartButtonEl.style.display =\n",
              "        google.colab.kernel.accessAllowed ? 'block' : 'none';\n",
              "    })();\n",
              "  </script>\n",
              "</div>\n",
              "\n",
              "  <div id=\"id_54f35fc1-6c45-4bdd-aa11-1a041728c76e\">\n",
              "    <style>\n",
              "      .colab-df-generate {\n",
              "        background-color: #E8F0FE;\n",
              "        border: none;\n",
              "        border-radius: 50%;\n",
              "        cursor: pointer;\n",
              "        display: none;\n",
              "        fill: #1967D2;\n",
              "        height: 32px;\n",
              "        padding: 0 0 0 0;\n",
              "        width: 32px;\n",
              "      }\n",
              "\n",
              "      .colab-df-generate:hover {\n",
              "        background-color: #E2EBFA;\n",
              "        box-shadow: 0px 1px 2px rgba(60, 64, 67, 0.3), 0px 1px 3px 1px rgba(60, 64, 67, 0.15);\n",
              "        fill: #174EA6;\n",
              "      }\n",
              "\n",
              "      [theme=dark] .colab-df-generate {\n",
              "        background-color: #3B4455;\n",
              "        fill: #D2E3FC;\n",
              "      }\n",
              "\n",
              "      [theme=dark] .colab-df-generate:hover {\n",
              "        background-color: #434B5C;\n",
              "        box-shadow: 0px 1px 3px 1px rgba(0, 0, 0, 0.15);\n",
              "        filter: drop-shadow(0px 1px 2px rgba(0, 0, 0, 0.3));\n",
              "        fill: #FFFFFF;\n",
              "      }\n",
              "    </style>\n",
              "    <button class=\"colab-df-generate\" onclick=\"generateWithVariable('df')\"\n",
              "            title=\"Generate code using this dataframe.\"\n",
              "            style=\"display:none;\">\n",
              "\n",
              "  <svg xmlns=\"http://www.w3.org/2000/svg\" height=\"24px\"viewBox=\"0 0 24 24\"\n",
              "       width=\"24px\">\n",
              "    <path d=\"M7,19H8.4L18.45,9,17,7.55,7,17.6ZM5,21V16.75L18.45,3.32a2,2,0,0,1,2.83,0l1.4,1.43a1.91,1.91,0,0,1,.58,1.4,1.91,1.91,0,0,1-.58,1.4L9.25,21ZM18.45,9,17,7.55Zm-12,3A5.31,5.31,0,0,0,4.9,8.1,5.31,5.31,0,0,0,1,6.5,5.31,5.31,0,0,0,4.9,4.9,5.31,5.31,0,0,0,6.5,1,5.31,5.31,0,0,0,8.1,4.9,5.31,5.31,0,0,0,12,6.5,5.46,5.46,0,0,0,6.5,12Z\"/>\n",
              "  </svg>\n",
              "    </button>\n",
              "    <script>\n",
              "      (() => {\n",
              "      const buttonEl =\n",
              "        document.querySelector('#id_54f35fc1-6c45-4bdd-aa11-1a041728c76e button.colab-df-generate');\n",
              "      buttonEl.style.display =\n",
              "        google.colab.kernel.accessAllowed ? 'block' : 'none';\n",
              "\n",
              "      buttonEl.onclick = () => {\n",
              "        google.colab.notebook.generateWithVariable('df');\n",
              "      }\n",
              "      })();\n",
              "    </script>\n",
              "  </div>\n",
              "\n",
              "    </div>\n",
              "  </div>\n"
            ],
            "application/vnd.google.colaboratory.intrinsic+json": {
              "type": "dataframe",
              "variable_name": "df",
              "summary": "{\n  \"name\": \"df\",\n  \"rows\": 3000,\n  \"fields\": [\n    {\n      \"column\": \"Height\",\n      \"properties\": {\n        \"dtype\": \"number\",\n        \"std\": 54.91271856414176,\n        \"min\": 25.68,\n        \"max\": 3050.0,\n        \"num_unique_values\": 2330,\n        \"samples\": [\n          146.89,\n          140.33,\n          125.66\n        ],\n        \"semantic_type\": \"\",\n        \"description\": \"\"\n      }\n    },\n    {\n      \"column\": \"Weight\",\n      \"properties\": {\n        \"dtype\": \"number\",\n        \"std\": 17.041527655001246,\n        \"min\": 8.53,\n        \"max\": 485.0,\n        \"num_unique_values\": 2310,\n        \"samples\": [\n          93.04,\n          49.18,\n          89.55\n        ],\n        \"semantic_type\": \"\",\n        \"description\": \"\"\n      }\n    },\n    {\n      \"column\": \"Sex\",\n      \"properties\": {\n        \"dtype\": \"category\",\n        \"num_unique_values\": 2,\n        \"samples\": [\n          \"Male\",\n          \"Female\"\n        ],\n        \"semantic_type\": \"\",\n        \"description\": \"\"\n      }\n    }\n  ]\n}"
            }
          },
          "metadata": {},
          "execution_count": 3
        }
      ],
      "source": [
        "df"
      ]
    },
    {
      "cell_type": "markdown",
      "metadata": {
        "id": "s6rOZw1MfHsJ"
      },
      "source": [
        "## Joint Distribution"
      ]
    },
    {
      "cell_type": "markdown",
      "metadata": {
        "id": "lJDZThWXfHsJ"
      },
      "source": [
        "The data is continuous, but we can bin it to make it discrete."
      ]
    },
    {
      "cell_type": "markdown",
      "metadata": {
        "id": "3_RYytlYfHsJ"
      },
      "source": [
        "\\begin{align}\n",
        "P(X = x, Y = y) = \\frac{N_{x,y}}{N}\n",
        "\\end{align}"
      ]
    },
    {
      "cell_type": "markdown",
      "metadata": {
        "id": "5sn3a95TfHsJ"
      },
      "source": [
        "We want to know what's the probability of height larger than $h$ and gender is male.\n",
        "\n",
        "\\begin{align}\n",
        "P(H > h, G = M) = \\frac{N_{h, M}}{N}\n",
        "\\end{align}"
      ]
    },
    {
      "cell_type": "code",
      "execution_count": 4,
      "metadata": {
        "id": "c42LcheHfHsJ",
        "outputId": "7832bc8d-8833-4fcc-8ab7-3b7af8f7ac15",
        "colab": {
          "base_uri": "https://localhost:8080/"
        }
      },
      "outputs": [
        {
          "output_type": "stream",
          "name": "stdout",
          "text": [
            "The probability of a person being Male and taller than 180 cm is 0.08466666666666667\n"
          ]
        }
      ],
      "source": [
        "h = 180\n",
        "g = \"Male\"\n",
        "\n",
        "group = df[(df[\"Height\"] > h) & (df[\"Sex\"] == g)]\n",
        "print(f\"The probability of a person being {g} and taller than {h} cm is {len(group) / len(df)}\")"
      ]
    },
    {
      "cell_type": "markdown",
      "metadata": {
        "id": "FXuFQ5xffHsJ"
      },
      "source": [
        "## Convert the Joint Distribution to Marginal Distribution"
      ]
    },
    {
      "cell_type": "markdown",
      "metadata": {
        "id": "C27p28VEfHsJ"
      },
      "source": [
        "What is the probability of height larger than $h$?\n",
        "\n",
        "We can sum over all the weights."
      ]
    },
    {
      "cell_type": "markdown",
      "metadata": {
        "id": "0sfj6koGfHsJ"
      },
      "source": [
        "\\begin{align}\n",
        "P(H > h) = \\sum_{g} P(H > h, G = g) = \\sum_{g} \\frac{N_{h, g}}{N}\n",
        "\\end{align}\n"
      ]
    },
    {
      "cell_type": "code",
      "execution_count": 5,
      "metadata": {
        "id": "Rp0OCLnhfHsJ",
        "outputId": "04a174cc-ed1f-4f78-fd90-2afe29545670",
        "colab": {
          "base_uri": "https://localhost:8080/"
        }
      },
      "outputs": [
        {
          "output_type": "stream",
          "name": "stdout",
          "text": [
            "The probability of a person being male and taller than 180 cm is 0.08466666666666667\n",
            "The probability of a person being female and taller than 180 cm is 0.0016666666666666668\n"
          ]
        }
      ],
      "source": [
        "group_male_height = df[(df[\"Height\"] > h) & (df[\"Sex\"] == \"Male\")]\n",
        "group_female_height = df[(df[\"Height\"] > h) & (df[\"Sex\"] == \"Female\")]\n",
        "\n",
        "print(f\"The probability of a person being male and taller than {h} cm is {len(group_male_height) / len(df)}\")\n",
        "print(f\"The probability of a person being female and taller than {h} cm is {len(group_female_height) / len(df)}\")"
      ]
    },
    {
      "cell_type": "code",
      "execution_count": 6,
      "metadata": {
        "id": "fsxdrnpSfHsJ",
        "outputId": "56c7b215-b80f-423c-8071-f18c66422623",
        "colab": {
          "base_uri": "https://localhost:8080/"
        }
      },
      "outputs": [
        {
          "output_type": "stream",
          "name": "stdout",
          "text": [
            "The probability of a person being taller than 180 cm is 0.08633333333333333\n",
            "The probability of a person being taller than 180 cm is 0.08633333333333333\n"
          ]
        }
      ],
      "source": [
        "group_height = df[df[\"Height\"] > h]\n",
        "print(f\"The probability of a person being taller than {h} cm is {len(group_height) / len(df)}\")\n",
        "\n",
        "# we can verify\n",
        "p = len(group_male_height) / len(df) + len(group_female_height) / len(df)\n",
        "print(f\"The probability of a person being taller than {h} cm is {p}\")"
      ]
    },
    {
      "cell_type": "markdown",
      "metadata": {
        "id": "QF0nh4lafHsJ"
      },
      "source": [
        "## Covariance"
      ]
    },
    {
      "cell_type": "markdown",
      "metadata": {
        "id": "QZedqy53fHsJ"
      },
      "source": [
        "\\begin{align}\n",
        "Cov(X, Y)\n",
        "= E[(X - E[X])(Y - E[Y])]\n",
        "= E[XY] - E[X]E[Y]\n",
        "\\end{align}\n",
        "\n",
        "\n",
        "\\begin{align}\n",
        "Cov(X, Y) = \\frac{1}{N} \\sum_{i=1}^{N} (x_i - \\mu_x)(y_i - \\mu_y)\n",
        "\\end{align}"
      ]
    },
    {
      "cell_type": "markdown",
      "metadata": {
        "id": "5YbdBcw0fHsK"
      },
      "source": [
        "## Covariance is a measure of the linear relationship between two variables."
      ]
    },
    {
      "cell_type": "markdown",
      "metadata": {
        "id": "QIdJZqs5fHsK"
      },
      "source": [
        "\n",
        "$$\n",
        "Cov(X, Y) = Cov(Y, X)\n",
        "$$\n",
        "\n",
        "$$\n",
        "Cov(X, a) = 0\n",
        "$$\n",
        "\n",
        "$$\n",
        "Cov(X+Y, Z) = Cov(X, Z) + Cov(Y, Z)\n",
        "$$\n",
        "\n",
        "$$\n",
        "Cov(a+bX, Y) = bCov(X, Y)\n",
        "$$"
      ]
    },
    {
      "cell_type": "markdown",
      "metadata": {
        "id": "xJh94eHXfHsK"
      },
      "source": [
        "https://numpy.org/doc/stable/reference/generated/numpy.cov.html"
      ]
    },
    {
      "cell_type": "code",
      "execution_count": 7,
      "metadata": {
        "id": "KkWGoNF1fHsK",
        "outputId": "cbb178fe-a4e8-409c-84cc-b54e438d834e",
        "colab": {
          "base_uri": "https://localhost:8080/"
        }
      },
      "outputs": [
        {
          "output_type": "stream",
          "name": "stdout",
          "text": [
            "[[1.06096618 2.12193236]\n",
            " [2.12193236 4.24386472]]\n"
          ]
        }
      ],
      "source": [
        "X = np.random.randn(1000)\n",
        "Y = 2 * X + 1\n",
        "print(np.cov(X, Y))"
      ]
    },
    {
      "cell_type": "code",
      "execution_count": 9,
      "metadata": {
        "id": "2_rSsZVSfHsK",
        "outputId": "a632e9e7-cfa1-4925-9b84-011448def623",
        "colab": {
          "base_uri": "https://localhost:8080/"
        }
      },
      "outputs": [
        {
          "output_type": "stream",
          "name": "stdout",
          "text": [
            "[[0.93377653 0.        ]\n",
            " [0.         0.        ]]\n"
          ]
        }
      ],
      "source": [
        "X = np.random.randn(1000)\n",
        "Y = np.zeros(1000)\n",
        "print(np.cov(X, Y))"
      ]
    },
    {
      "cell_type": "markdown",
      "metadata": {
        "id": "za9TIztsfHsK"
      },
      "source": [
        "$$\n",
        "\\widehat{Cov}(X, Y) = \\frac{1}{N-1} \\sum_{i=1}^{N} (x_i - \\bar{x})(y_i - \\bar{y})\n",
        "$$"
      ]
    },
    {
      "cell_type": "markdown",
      "metadata": {
        "id": "1SAUJCL3fHsK"
      },
      "source": [
        "What if the X is more than one dimension?"
      ]
    },
    {
      "cell_type": "markdown",
      "metadata": {
        "id": "ZwgYCJdBfHsK"
      },
      "source": [
        "$$\n",
        "X \\sim N(\\mu_X, \\Sigma_X)\n",
        "$$\n",
        "\n",
        "$$\n",
        "Y = aX + b\n",
        "$$\n",
        "\n",
        "$$\n",
        "Y \\sim N(a\\mu_X + b, a^2\\Sigma_X)\n",
        "$$"
      ]
    },
    {
      "cell_type": "code",
      "execution_count": 10,
      "metadata": {
        "id": "uV9YvBfefHsK"
      },
      "outputs": [],
      "source": [
        "mu_x = np.array([1, 2])\n",
        "sigma_x = np.array([[1, 0], [0, 1]])\n",
        "# sample 1000 points\n",
        "x = np.random.multivariate_normal(mu_x, sigma_x, 1000)\n",
        "a = 2\n",
        "b = 1\n",
        "y = a * x + b"
      ]
    },
    {
      "cell_type": "code",
      "execution_count": 14,
      "metadata": {
        "id": "BEpIyV8dfHsK",
        "outputId": "c997a7fd-1a5d-4074-f7ba-25e5182d0339",
        "colab": {
          "base_uri": "https://localhost:8080/"
        }
      },
      "outputs": [
        {
          "output_type": "execute_result",
          "data": {
            "text/plain": [
              "(1000, 2)"
            ]
          },
          "metadata": {},
          "execution_count": 14
        }
      ],
      "source": [
        "y.shape"
      ]
    },
    {
      "cell_type": "code",
      "execution_count": 15,
      "metadata": {
        "id": "yAGjOeHwfHsL",
        "outputId": "65a18332-f8cd-40c0-e80b-b892c23b2b07",
        "colab": {
          "base_uri": "https://localhost:8080/"
        }
      },
      "outputs": [
        {
          "output_type": "execute_result",
          "data": {
            "text/plain": [
              "(1000, 2)"
            ]
          },
          "metadata": {},
          "execution_count": 15
        }
      ],
      "source": [
        "x.shape"
      ]
    },
    {
      "cell_type": "code",
      "execution_count": 17,
      "metadata": {
        "id": "1gCPulCGfHsP",
        "outputId": "b8ad3403-a254-4a9c-9d4b-04e89fc272f2",
        "colab": {
          "base_uri": "https://localhost:8080/"
        }
      },
      "outputs": [
        {
          "output_type": "stream",
          "name": "stdout",
          "text": [
            "1.035268919885474\n"
          ]
        }
      ],
      "source": [
        "#* flat version\n",
        "print(np.var(x - mu_x))"
      ]
    },
    {
      "cell_type": "code",
      "execution_count": 18,
      "metadata": {
        "id": "-n-PkLM2fHsP",
        "outputId": "7adc5678-02e4-41ed-f036-3a75ec484ff3",
        "colab": {
          "base_uri": "https://localhost:8080/"
        }
      },
      "outputs": [
        {
          "output_type": "stream",
          "name": "stdout",
          "text": [
            "5.10417004640507\n"
          ]
        }
      ],
      "source": [
        "print(np.var(y - np.mean(y)))"
      ]
    },
    {
      "cell_type": "code",
      "execution_count": 19,
      "metadata": {
        "id": "vIGT9g_JfHsP",
        "outputId": "8448d906-5f61-4384-e379-eb4f73406b48",
        "colab": {
          "base_uri": "https://localhost:8080/"
        }
      },
      "outputs": [
        {
          "output_type": "stream",
          "name": "stdout",
          "text": [
            "[1.04988033 1.02048726]\n"
          ]
        }
      ],
      "source": [
        "print(np.var(x, axis=0))"
      ]
    },
    {
      "cell_type": "code",
      "execution_count": 20,
      "metadata": {
        "id": "ymvyNI0DfHsP",
        "outputId": "402ef7b3-b003-4441-9410-98d2b3de03a9",
        "colab": {
          "base_uri": "https://localhost:8080/"
        }
      },
      "outputs": [
        {
          "output_type": "stream",
          "name": "stdout",
          "text": [
            "[4.19952132 4.08194902]\n"
          ]
        }
      ],
      "source": [
        "print(np.var(y, axis=0))"
      ]
    },
    {
      "cell_type": "markdown",
      "metadata": {
        "id": "sIUuVRy7fHsQ"
      },
      "source": [
        "## Variance of x\n",
        "$$\n",
        "\\operatorname{Var}(X) = \\frac{1}{N} \\sum_{i=1}^{N} (x_i - \\mu_x)^2\n",
        "$$"
      ]
    },
    {
      "cell_type": "markdown",
      "metadata": {
        "id": "opNfk1snfHsQ"
      },
      "source": [
        "## Properties\n",
        "<!-- \\operatorname{Var}(X+Y)=\\operatorname{Var}(X)+\\operatorname{Var}(Y)+2 \\operatorname{Cov}(X, Y) -->\n",
        "$$\n",
        "\\operatorname{Var}(X+Y) = \\operatorname{Var}(X) + \\operatorname{Var}(Y) + 2 \\operatorname{Cov}(X, Y)\n",
        "$$\n",
        "$$\n",
        "\\operatorname{Var}(X-Y) = \\operatorname{Var}(X) + \\operatorname{Var}(Y) - 2 \\operatorname{Cov}(X, Y)\n",
        "$$\n",
        "$$\n",
        "\\operatorname{Var}(aX + bY) = a^2 \\operatorname{Var}(X) + b^2 \\operatorname{Var}(Y) + 2ab \\operatorname{Cov}(X, Y)\n",
        "$$\n",
        "\n"
      ]
    },
    {
      "cell_type": "code",
      "execution_count": 21,
      "metadata": {
        "id": "otp98dGSfHsQ",
        "outputId": "3e73096d-44a9-4f86-84b1-8f99377cff32",
        "colab": {
          "base_uri": "https://localhost:8080/"
        }
      },
      "outputs": [
        {
          "output_type": "stream",
          "name": "stdout",
          "text": [
            "[[0.98030918 1.96061836]\n",
            " [1.96061836 3.92123672]]\n"
          ]
        }
      ],
      "source": [
        "X = np.random.randn(1000)\n",
        "Y = 2 * X + 1\n",
        "print(np.cov(X, Y))"
      ]
    },
    {
      "cell_type": "code",
      "execution_count": 22,
      "metadata": {
        "id": "jkOhiGsBfHsQ",
        "outputId": "17158065-5990-49aa-9ef6-d079a905bbc2",
        "colab": {
          "base_uri": "https://localhost:8080/"
        }
      },
      "outputs": [
        {
          "output_type": "stream",
          "name": "stdout",
          "text": [
            "0.9793288699394576 3.9173154797578302 8.81395982945512\n",
            "1.960618358237153\n",
            "8.817881066171594\n"
          ]
        }
      ],
      "source": [
        "c = X + Y\n",
        "print(np.var(X), np.var(Y), np.var(c))\n",
        "print(np.cov(X, Y)[0, 1])\n",
        "print(np.var(X) + np.var(Y) + 2 * np.cov(X, Y)[0, 1])"
      ]
    },
    {
      "cell_type": "markdown",
      "metadata": {
        "id": "xTGiw4IzfHsQ"
      },
      "source": [
        "$$\n",
        "\\begin{aligned}\n",
        "\\operatorname{Var}(X + Y) &= E[(X + Y - E[X + Y])^2] && \\text{(Definition of variance)} \\\\\n",
        "&= E[(X + Y - (E[X] + E[Y]))^2] && \\text{(Substitute } E[X + Y] = E[X] + E[Y]) \\\\\n",
        "&= E[(X - E[X] + Y - E[Y])^2] && \\text{(Rearrange terms)} \\\\\n",
        "&= E[(X - E[X])^2] + E[(Y - E[Y])^2] + 2E[(X - E[X])(Y - E[Y])] && \\text{(Expand the square)} \\\\\n",
        "&= \\operatorname{Var}(X) + \\operatorname{Var}(Y) + 2 \\operatorname{Cov}(X, Y)\n",
        "\\end{aligned}\n",
        "$$"
      ]
    },
    {
      "cell_type": "markdown",
      "metadata": {
        "id": "qSQVkHnAfHsQ"
      },
      "source": [
        "## Correlation"
      ]
    },
    {
      "cell_type": "markdown",
      "metadata": {
        "id": "_o1VvL2SfHsQ"
      },
      "source": [
        "Covariance has the unit of the product of the units of the two variables.\n",
        "\n",
        "X: cm, Y: kg\n",
        "\n",
        "$$\n",
        "Cov(X, Y) = 10 (\\text{cm} \\cdot \\text{kg})\n",
        "$$\n",
        "\n",
        "Normalization by the standard deviation will give us a unitless quantity.\n",
        "\n",
        "$$\n",
        "\\rho_{X, Y} = \\frac{Cov(X, Y)}{\\sqrt{Var(X)Var(Y)}}\n",
        "$$"
      ]
    },
    {
      "cell_type": "markdown",
      "metadata": {
        "id": "zUfsLeOwfHsQ"
      },
      "source": [
        "$$\n",
        "\\rho_{X, Y} \\in [-1, 1]\n",
        "$$\n",
        "\n",
        "Cauchy-Schwarz Inequality:\n",
        "\n",
        "$$\n",
        "|\\mathbb{E}[X Y]| \\leq \\sqrt{\\mathbb{E}\\left[X^2\\right] \\cdot \\mathbb{E}\\left[Y^2\\right]}\n",
        "$$\n",
        "\n",
        "\n",
        "$$\n",
        "|\\operatorname{Cov}(X, Y)|=|\\mathbb{E}[(X-\\mathbb{E}[X])(Y-\\mathbb{E}[Y])]| \\leq \\sqrt{\\mathbb{E}\\left[(X-\\mathbb{E}[X])^2\\right] \\cdot \\mathbb{E}\\left[(Y-\\mathbb{E}[Y])^2\\right]}\n",
        "$$\n"
      ]
    },
    {
      "cell_type": "markdown",
      "metadata": {
        "id": "OWGB9kOifHsQ"
      },
      "source": [
        "### Interpretation:\n",
        "\n",
        "If $\\rho_{X, Y} = 1$, then $Y = aX + b$ with $a > 0$.\n",
        "\n",
        "If $\\rho_{X, Y} = -1$, then $Y = aX + b$ with $a < 0$.\n",
        "\n",
        "If $\\rho_{X, Y} = 0$, then $X$ and $Y$ are independent, $Y$ is constant to $X$."
      ]
    },
    {
      "cell_type": "markdown",
      "metadata": {
        "id": "aRUN33CUfHsQ"
      },
      "source": [
        "## Correlation $\\not\\implies$ Causation"
      ]
    },
    {
      "cell_type": "markdown",
      "metadata": {
        "id": "UVW2-RrBfHsQ"
      },
      "source": [
        "Causal Graph (DAG)\n",
        "We can represent this situation with a directed acyclic graph (DAG), where:\n",
        "- $W=1$ Hot Weather\n",
        "- $I=1$ Ice Cream Sales\n",
        "- $D=1$ Drowning Incidents\n",
        "\n",
        "The causal relationships are:\n",
        "- $W \\rightarrow I$ (Hot weather increases ice cream sales)\n",
        "- $W \\rightarrow D$ (Hot weather increases the likelihood of drowning incidents)"
      ]
    },
    {
      "cell_type": "code",
      "execution_count": 23,
      "metadata": {
        "id": "P5udoqxmfHsQ",
        "outputId": "4c32a8c7-b069-4221-d66f-2adc92240aed",
        "colab": {
          "base_uri": "https://localhost:8080/",
          "height": 575
        }
      },
      "outputs": [
        {
          "output_type": "stream",
          "name": "stderr",
          "text": [
            "<ipython-input-23-0f44554ae9d0>:23: UserWarning: This figure includes Axes that are not compatible with tight_layout, so results might be incorrect.\n",
            "  plt.tight_layout()\n"
          ]
        },
        {
          "output_type": "display_data",
          "data": {
            "text/plain": [
              "<Figure size 640x480 with 1 Axes>"
            ],
            "image/png": "[encoded data removed]"
          },
          "metadata": {}
        }
      ],
      "source": [
        "import networkx as nx\n",
        "\n",
        "# Create a directed graph\n",
        "G = nx.DiGraph()\n",
        "\n",
        "# Add nodes\n",
        "G.add_node(\"Hot Weather (W)\")\n",
        "G.add_node(\"Ice Cream Sales (I)\")\n",
        "G.add_node(\"Drowning Incidents (D)\")\n",
        "\n",
        "# Add directed edges representing causal relationships\n",
        "G.add_edge(\"Hot Weather (W)\", \"Ice Cream Sales (I)\")\n",
        "G.add_edge(\"Hot Weather (W)\", \"Drowning Incidents (D)\")\n",
        "\n",
        "# Draw the graph\n",
        "pos = {\n",
        "    \"Hot Weather (W)\": (0, 1),\n",
        "    \"Ice Cream Sales (I)\": (-1, 0),\n",
        "    \"Drowning Incidents (D)\": (1, 0),\n",
        "}\n",
        "\n",
        "nx.draw(G, pos, with_labels=True, node_size=3000, node_color=\"lightgreen\", font_size=10, font_weight=\"bold\", arrows=True)\n",
        "plt.tight_layout()\n",
        "\n",
        "plt.title(\"Causal Graph (DAG) - Correlation Does Not Imply Causation\")\n",
        "plt.show()\n"
      ]
    },
    {
      "cell_type": "code",
      "execution_count": 24,
      "metadata": {
        "id": "Xn7vQ2R6fHsQ",
        "outputId": "b0d42041-6720-4e56-b228-2859f9a28990",
        "colab": {
          "base_uri": "https://localhost:8080/",
          "height": 613
        }
      },
      "outputs": [
        {
          "output_type": "stream",
          "name": "stdout",
          "text": [
            "Correlation between Ice Cream Sales and Drowning Incidents: 0.1812\n",
            "Correlation between Ice Cream Sales and Hot Weather: 0.7026\n",
            "Correlation between Drowning Incidents and Hot Weather: 0.2395\n",
            "\n",
            "Drowning rates by Ice Cream Sales:\n",
            "Ice Cream Sales\n",
            "0    0.046310\n",
            "1    0.152104\n",
            "Name: Drowning Incidents, dtype: float64\n"
          ]
        },
        {
          "output_type": "display_data",
          "data": {
            "text/plain": [
              "<Figure size 640x480 with 1 Axes>"
            ],
            "image/png": "[encoded data removed]"
          },
          "metadata": {}
        }
      ],
      "source": [
        "# Number of individuals (or time periods)\n",
        "n = 1000\n",
        "\n",
        "# Probability of hot weather\n",
        "p_hot_weather = 0.3\n",
        "\n",
        "# Ice cream sales probabilities\n",
        "p_ice_cream_if_hot = 0.8\n",
        "p_ice_cream_if_not_hot = 0.1\n",
        "\n",
        "# Drowning incidents probabilities\n",
        "p_drowning_if_hot = 0.2\n",
        "p_drowning_if_not_hot = 0.05\n",
        "\n",
        "# Simulate Hot Weather\n",
        "np.random.seed(42)\n",
        "hot_weather = np.random.binomial(1, p_hot_weather, n)\n",
        "\n",
        "# Simulate Ice Cream Sales based on weather\n",
        "ice_cream_sales = np.where(hot_weather == 1,\n",
        "                           np.random.binomial(1, p_ice_cream_if_hot, n),\n",
        "                           np.random.binomial(1, p_ice_cream_if_not_hot, n))\n",
        "\n",
        "# Simulate Drowning Incidents based on weather\n",
        "drowning_incidents = np.where(hot_weather == 1,\n",
        "                              np.random.binomial(1, p_drowning_if_hot, n),\n",
        "                              np.random.binomial(1, p_drowning_if_not_hot, n))\n",
        "\n",
        "# Create a DataFrame for analysis\n",
        "df = pd.DataFrame({\n",
        "    'Hot Weather': hot_weather,\n",
        "    'Ice Cream Sales': ice_cream_sales,\n",
        "    'Drowning Incidents': drowning_incidents\n",
        "})\n",
        "\n",
        "# Calculate correlations\n",
        "correlation_ice_drowning = df[['Ice Cream Sales', 'Drowning Incidents']].corr().iloc[0, 1]\n",
        "correlation_ice_weather = df[['Ice Cream Sales', 'Hot Weather']].corr().iloc[0, 1]\n",
        "correlation_drowning_weather = df[['Drowning Incidents', 'Hot Weather']].corr().iloc[0, 1]\n",
        "\n",
        "# Print correlation results\n",
        "print(f\"Correlation between Ice Cream Sales and Drowning Incidents: {correlation_ice_drowning:.4f}\")\n",
        "print(f\"Correlation between Ice Cream Sales and Hot Weather: {correlation_ice_weather:.4f}\")\n",
        "print(f\"Correlation between Drowning Incidents and Hot Weather: {correlation_drowning_weather:.4f}\")\n",
        "\n",
        "# Grouped statistics to check rates\n",
        "ice_cream_drowning_rate = df.groupby('Ice Cream Sales')['Drowning Incidents'].mean()\n",
        "print(\"\\nDrowning rates by Ice Cream Sales:\")\n",
        "print(ice_cream_drowning_rate)\n",
        "\n",
        "# Plot the results\n",
        "plt.bar(['No Ice Cream Sales', 'Ice Cream Sales'], ice_cream_drowning_rate, color=['blue', 'orange'])\n",
        "plt.title('Drowning Rate by Ice Cream Sales')\n",
        "plt.ylabel('Drowning Rate')\n",
        "plt.show()\n"
      ]
    },
    {
      "cell_type": "markdown",
      "metadata": {
        "id": "GtdB8gNXfHsQ"
      },
      "source": [
        "## Causation $\\not\\implies$ Correlation"
      ]
    },
    {
      "cell_type": "markdown",
      "metadata": {
        "id": "NE0ME-X0fHsR"
      },
      "source": [
        "Antihistamines causally reduce sneezing\n",
        "\n",
        "People taking antihistamines sneeze more than average\n",
        "\n",
        "Negative causal effect of antihistamines on sneezing but\n",
        "\n",
        "positive correlation b/w antihistamine use and sneezing"
      ]
    },
    {
      "cell_type": "markdown",
      "metadata": {
        "id": "qI91zNq9fHsR"
      },
      "source": [
        "- $A=1$ if a person takes antihistamines, 0 otherwise.\n",
        "- $S=1$ if a person sneezes, 0 otherwise.\n",
        "- $C=1$ if a person has the underlying condition (e.g., allergies), 0 otherwise."
      ]
    },
    {
      "cell_type": "markdown",
      "metadata": {
        "id": "MvrqwBz9fHsR"
      },
      "source": [
        "Assumptions:\n",
        "1. $A$ and $S$ are dependent on $C$, meaning:\n",
        "- People with allergies $(C=1)$ are more likely to take antihistamines.\n",
        "- People with allergies $(C=1)$ sneeze more frequently.\n",
        "1. Negative causal effect of antihistamines: Antihistamines reduce sneezing, i.e., $P(S=1 \\mid A=1, C=1)<P(S=1 \\mid A=0, C=1)$."
      ]
    },
    {
      "cell_type": "markdown",
      "metadata": {
        "id": "X5PkTBgIfHsR"
      },
      "source": [
        "Model:\n",
        "We can model the probability of sneezing $S$ as a function of antihistamine use $A$, the underlying condition $C$, and their relationships:\n",
        "\n",
        "$$\n",
        "P(S=1 \\mid A=a, C=c)=\\alpha_c-\\beta \\cdot a\n",
        "$$\n",
        "\n",
        "where:\n",
        "- $\\alpha_c$ captures the baseline sneezing rate based on the condition $C$.\n",
        "- $\\beta$ captures the reduction in sneezing due to antihistamines.\n",
        "\n",
        "Similarly, we can model the probability of taking antihistamines as a function of the underlying condition:\n",
        "\n",
        "$$\n",
        "P(A=1 \\mid C=c)=\\gamma \\cdot c\n",
        "$$\n"
      ]
    },
    {
      "cell_type": "code",
      "execution_count": 25,
      "metadata": {
        "id": "KxCN1JWLfHsR",
        "outputId": "c2d6a5b2-a522-4682-e384-7f38bac560c2",
        "colab": {
          "base_uri": "https://localhost:8080/",
          "height": 539
        }
      },
      "outputs": [
        {
          "output_type": "display_data",
          "data": {
            "text/plain": [
              "<Figure size 640x480 with 1 Axes>"
            ],
            "image/png": "[encoded data removed]"
          },
          "metadata": {}
        }
      ],
      "source": [
        "import networkx as nx\n",
        "\n",
        "# Create a directed graph\n",
        "G = nx.DiGraph()\n",
        "\n",
        "# Add nodes\n",
        "G.add_node(\"Condition (C)\")\n",
        "G.add_node(\"Antihistamines (A)\")\n",
        "G.add_node(\"Sneezing (S)\")\n",
        "\n",
        "# Add directed edges representing causal relationships\n",
        "G.add_edge(\"Condition (C)\", \"Antihistamines (A)\")\n",
        "G.add_edge(\"Condition (C)\", \"Sneezing (S)\")\n",
        "G.add_edge(\"Antihistamines (A)\", \"Sneezing (S)\")\n",
        "\n",
        "# Draw the graph\n",
        "pos = {\n",
        "    \"Condition (C)\": (0, 1),\n",
        "    \"Antihistamines (A)\": (-1, 0),\n",
        "    \"Sneezing (S)\": (1, 0),\n",
        "}\n",
        "\n",
        "labels = {\n",
        "    (\"Condition (C)\", \"Antihistamines (A)\"): \"Positive\",\n",
        "    (\"Condition (C)\", \"Sneezing (S)\"): \"Positive\",\n",
        "    (\"Antihistamines (A)\", \"Sneezing (S)\"): \"Negative\",\n",
        "}\n",
        "\n",
        "nx.draw(G, pos, with_labels=True, node_size=3000, node_color=\"lightblue\", font_size=10, font_weight=\"bold\", arrows=True)\n",
        "nx.draw_networkx_edge_labels(G, pos, edge_labels=labels, font_color=\"red\")\n",
        "\n",
        "plt.title(\"Causal Graph (DAG)\")\n",
        "plt.show()\n"
      ]
    },
    {
      "cell_type": "code",
      "execution_count": 26,
      "metadata": {
        "id": "ju7U81cpfHsR",
        "outputId": "87a01388-ffab-47b2-eafe-ef4691a112da",
        "colab": {
          "base_uri": "https://localhost:8080/",
          "height": 577
        }
      },
      "outputs": [
        {
          "output_type": "stream",
          "name": "stdout",
          "text": [
            "Correlation between antihistamine use and sneezing: 0.2137\n",
            "\n",
            "Average sneezing rates:\n",
            "Antihistamines\n",
            "0    0.112332\n",
            "1    0.309392\n",
            "Name: Sneezing, dtype: float64\n"
          ]
        },
        {
          "output_type": "display_data",
          "data": {
            "text/plain": [
              "<Figure size 640x480 with 1 Axes>"
            ],
            "image/png": "[encoded data removed]"
          },
          "metadata": {}
        }
      ],
      "source": [
        "# Number of individuals\n",
        "n = 1000\n",
        "\n",
        "# Parameters\n",
        "p_condition = 0.2  # Probability of having the underlying condition (allergies)\n",
        "alpha_c1 = 0.8     # Sneezing rate with condition and without antihistamines\n",
        "alpha_c0 = 0.1     # Sneezing rate without condition\n",
        "beta = 0.5         # Effect of antihistamines on sneezing\n",
        "gamma = 0.9        # Probability of taking antihistamines with the condition\n",
        "\n",
        "# Simulate data\n",
        "np.random.seed(42)\n",
        "C = np.random.binomial(1, p_condition, n)  # Condition presence\n",
        "A = np.random.binomial(1, gamma * C)       # Antihistamine use based on condition\n",
        "\n",
        "# Sneezing probability based on condition and antihistamine use\n",
        "sneezing_prob = np.where(C == 1, alpha_c1 - beta * A, alpha_c0)\n",
        "S = np.random.binomial(1, sneezing_prob)  # Sneezing occurrences\n",
        "\n",
        "# Create a DataFrame for analysis\n",
        "df = pd.DataFrame({'Condition': C, 'Antihistamines': A, 'Sneezing': S})\n",
        "\n",
        "# Calculate correlations\n",
        "correlation = df[['Antihistamines', 'Sneezing']].corr().iloc[0, 1]\n",
        "\n",
        "# Print results\n",
        "print(f\"Correlation between antihistamine use and sneezing: {correlation:.4f}\")\n",
        "\n",
        "# Grouped statistics to check average sneezing rates\n",
        "sneezing_rates = df.groupby('Antihistamines')['Sneezing'].mean()\n",
        "print(\"\\nAverage sneezing rates:\")\n",
        "print(sneezing_rates)\n",
        "\n",
        "# Plot the results\n",
        "plt.bar(['No Antihistamines', 'Antihistamines'], sneezing_rates, color=['blue', 'orange'])\n",
        "plt.title('Average Sneezing Rates by Antihistamine Use')\n",
        "plt.ylabel('Average Sneezing Rate')\n",
        "plt.show()"
      ]
    },
    {
      "cell_type": "markdown",
      "metadata": {
        "id": "58WF7fDrfHsR"
      },
      "source": [
        "## Conditional Distribution"
      ]
    },
    {
      "cell_type": "markdown",
      "metadata": {
        "id": "zBwcqEJsfHsR"
      },
      "source": [
        "$$\n",
        "\\mathbb{E}\\left[Y \\mid X=x_i\\right]=\\sum_{j=1}^k y_j P\\left(Y=y_j \\mid X=x_i\\right)\n",
        "$$\n",
        "\n",
        "$$\n",
        "\\mathbb{E}[Y \\mid X=x]=\\int_{-\\infty}^{\\infty} y f(y \\mid x) d y\n",
        "$$"
      ]
    },
    {
      "cell_type": "markdown",
      "metadata": {
        "id": "MipSkN6ffHsR"
      },
      "source": [
        "1. $E[g(X) + h(X)Y \\mid X] = g(X) + h(X)E[Y \\mid X]$\n",
        "\n",
        "2. $E[Y + Z \\mid X] = E[Y \\mid X] + E[Z \\mid X]$\n",
        "\n",
        "3. If $Y \\leq Z$ (always), then $E[Y \\mid X] \\leq E[Z \\mid X]$"
      ]
    },
    {
      "cell_type": "markdown",
      "metadata": {
        "id": "Lee5BHmnfHsR"
      },
      "source": [
        "Recall:\n",
        "\n",
        "+ $\\mathbb{E}$ is a linear operator"
      ]
    },
    {
      "cell_type": "markdown",
      "metadata": {
        "id": "nlN9bZvhfHsR"
      },
      "source": [
        "## Law of Iterated Expectations"
      ]
    },
    {
      "cell_type": "markdown",
      "metadata": {
        "id": "DyzffAunfHsR"
      },
      "source": [
        "\n",
        "$$\\mathbb{E}[X]=\\mathbb{E}[\\mathbb{E}[X \\mid Y]]$$\n",
        "\n",
        "Trivial Proof:\n",
        "\n",
        "\\begin{align}\n",
        "\\mathbb{E}[\\mathbb{E}(X \\mid Y)] & =\\mathbb{E}\\left[\\sum_{x \\in \\mathcal{X}} x \\cdot \\operatorname{Pr}(X=x \\mid Y)\\right] \\\\\n",
        "& =\\sum_{y \\in \\mathcal{Y}}\\left[\\sum_{x \\in \\mathcal{X}} x \\cdot \\operatorname{Pr}(X=x \\mid Y=y)\\right] \\cdot \\operatorname{Pr}(Y=y) \\\\\n",
        "& =\\sum_{x \\in \\mathcal{X}} \\sum_{y \\in \\mathcal{Y}} x \\cdot \\operatorname{Pr}(X=x \\mid Y=y) \\cdot \\operatorname{Pr}(Y=y) \\\\\n",
        "& =\\sum_{x \\in \\mathcal{X}} \\sum_{y \\in \\mathcal{Y}} x \\cdot \\operatorname{Pr}(X=x, Y=y) \\\\\n",
        "& =\\sum_{x \\in \\mathcal{X}} x \\sum_{y \\in \\mathcal{Y}} \\operatorname{Pr}(X=x, Y=y) \\\\\n",
        "& =\\sum_{x \\in \\mathcal{X}} x \\cdot \\operatorname{Pr}(X=x) \\\\\n",
        "& =\\mathbb{E}(X)\n",
        "\\end{align}\n"
      ]
    },
    {
      "cell_type": "markdown",
      "source": [
        "## Conditional Variance"
      ],
      "metadata": {
        "id": "w4n3BGdcJ6YK"
      }
    },
    {
      "cell_type": "markdown",
      "source": [
        "\n",
        "\\begin{align}\n",
        " \\text{Var}(Y|X) &= E[(Y - E[Y|X])^2 | X] \\\\\n",
        " &= E[Y^2|X] - (E[Y|X])^2\n",
        "\\end{align}\n"
      ],
      "metadata": {
        "id": "bG1Lxkn3KAnc"
      }
    },
    {
      "cell_type": "code",
      "source": [
        "# Step 1: Generate synthetic data for (X, Y) pairs\n",
        "np.random.seed(201)\n",
        "X = np.random.randint(1, 6, size=100)  # Random values for X\n",
        "epsilon = np.random.normal(0, 1, 100)  # Noise\n",
        "Y = 2 * X + epsilon  # Y depends on X with some noise\n",
        "\n",
        "# Step 2: Compute Conditional Expectation\n",
        "def conditional_expectation(Y, X, value):\n",
        "    return np.mean(Y[X == value])\n",
        "\n",
        "# Step 3: Compute Conditional Variance\n",
        "def conditional_variance(Y, X, value):\n",
        "    E_Y_given_X = conditional_expectation(Y, X, value)\n",
        "    return np.mean((Y[X == value] - E_Y_given_X)**2)\n",
        "\n",
        "# Test conditional variance for specific values of X (e.g., X = 3)\n",
        "values = [1, 2, 3, 4, 5]\n",
        "for value in values:\n",
        "  cond_var = conditional_variance(Y, X, value)\n",
        "  print(f\"Conditional Variance of Y given X = {value}: {cond_var}\")"
      ],
      "metadata": {
        "colab": {
          "base_uri": "https://localhost:8080/"
        },
        "id": "VpkI4C5NKHYf",
        "outputId": "7ab10809-55c9-4555-a3cc-b21d90c6daa4"
      },
      "execution_count": 27,
      "outputs": [
        {
          "output_type": "stream",
          "name": "stdout",
          "text": [
            "Conditional Variance of Y given X = 1: 0.47276544589467157\n",
            "Conditional Variance of Y given X = 2: 0.819919742028449\n",
            "Conditional Variance of Y given X = 3: 0.9370777623587184\n",
            "Conditional Variance of Y given X = 4: 0.7220822662193119\n",
            "Conditional Variance of Y given X = 5: 0.5304455160067575\n"
          ]
        }
      ]
    },
    {
      "cell_type": "code",
      "source": [
        "# Alternative form of the conditional variance\n",
        "def conditional_variance_alt(Y, X, value):\n",
        "    return np.mean(Y[X == value]**2) - np.mean(Y[X == value])**2\n",
        "\n",
        "# Test conditional variance for specific values of X (e.g., X = 3)\n",
        "values = [1, 2, 3, 4, 5]\n",
        "for value in values:\n",
        "  cond_var = conditional_variance(Y, X, value)\n",
        "  print(f\"Conditional Variance of Y given X = {value}: {cond_var}\")"
      ],
      "metadata": {
        "colab": {
          "base_uri": "https://localhost:8080/"
        },
        "id": "rhCbL5PMKJa8",
        "outputId": "6cf1d31a-e2fb-4e52-dc1c-4eee3b4974eb"
      },
      "execution_count": 29,
      "outputs": [
        {
          "output_type": "stream",
          "name": "stdout",
          "text": [
            "Conditional Variance of Y given X = 1: 0.47276544589467157\n",
            "Conditional Variance of Y given X = 2: 0.819919742028449\n",
            "Conditional Variance of Y given X = 3: 0.9370777623587184\n",
            "Conditional Variance of Y given X = 4: 0.7220822662193119\n",
            "Conditional Variance of Y given X = 5: 0.5304455160067575\n"
          ]
        }
      ]
    },
    {
      "cell_type": "markdown",
      "source": [
        "Additional property:\n",
        "\n",
        "$$\n",
        "\\text{Var}(g(X) + h(X)Y | X) = h(X)^2 \\text{Var}(Y | X)\n",
        "$$"
      ],
      "metadata": {
        "id": "rHgwrlUoKC3t"
      }
    },
    {
      "cell_type": "code",
      "source": [
        "# Define g(X)\n",
        "def g(X):\n",
        "    return X ** 2  # Example function g(X)\n",
        "\n",
        "# Define h(X)\n",
        "def h(X):\n",
        "    return 3 * X  # Example function h(X)\n",
        "\n",
        "# New Conditional Variance with g(X) + h(X)Y\n",
        "def conditional_variance_with_g_and_h(Y, X, value):\n",
        "    E_Y_given_X = conditional_expectation(Y, X, value)\n",
        "    return np.mean((g(X[X == value]) + h(X[X == value]) * Y[X == value]\n",
        "                    - (g(X[X == value]) + h(X[X == value]) * E_Y_given_X))**2)\n",
        "\n",
        "# Step 1: Calculate original conditional variance for X = 3\n",
        "value = 3\n",
        "original_cond_var = conditional_variance(Y, X, value)\n",
        "\n",
        "# Step 2: Calculate conditional variance of g(X) + h(X)Y | X = 3\n",
        "new_cond_var = conditional_variance_with_g_and_h(Y, X, value)\n",
        "\n",
        "# Step 3: Verify that Var(g(X) + h(X)Y | X) = h(X)^2 * Var(Y | X)\n",
        "h_X = h(value)  # Calculate h(X) for X = 3\n",
        "expected_new_cond_var = h_X**2 * original_cond_var\n",
        "\n",
        "print(f\"Original Conditional Variance of Y given X = {value}: {original_cond_var}\")\n",
        "print(f\"New Conditional Variance of g(X) + h(X)Y given X = {value}: {new_cond_var}\")\n",
        "print(f\"Expected Conditional Variance of g(X) + h(X)Y given X = {value}: {expected_new_cond_var}\")"
      ],
      "metadata": {
        "colab": {
          "base_uri": "https://localhost:8080/"
        },
        "id": "0VZkH-ZgKOKL",
        "outputId": "5a5105aa-05e0-4a71-fb8a-b28b6980b7a3"
      },
      "execution_count": 30,
      "outputs": [
        {
          "output_type": "stream",
          "name": "stdout",
          "text": [
            "Original Conditional Variance of Y given X = 3: 0.9370777623587184\n",
            "New Conditional Variance of g(X) + h(X)Y given X = 3: 75.90329875105617\n",
            "Expected Conditional Variance of g(X) + h(X)Y given X = 3: 75.9032987510562\n"
          ]
        }
      ]
    },
    {
      "cell_type": "markdown",
      "source": [
        "## Independence"
      ],
      "metadata": {
        "id": "RbNAkAH_KTUy"
      }
    },
    {
      "cell_type": "markdown",
      "source": [
        "$$\n",
        "P(X \\in A, Y \\in B) = P(X \\in A)P(Y \\in B)\n",
        "$$\n",
        "\n",
        "Also,\n",
        "\n",
        "$$\n",
        "P(Y|X) = P(Y) \\ \\ \\text{and} \\ \\ P(X|Y) = P(X)\n",
        "$$\n",
        "\n",
        "If two variables are independent, then knowing the value of one variable does not provide additional information about the other.\n",
        "\n",
        "It is also the case that independent variables have a covariance of 0 and are, therefore, uncorrelated.\n",
        "- Proof in lecture slides by showing\n",
        "\n",
        "$$\\mathbb{E}[XY]=\\mathbb{E}[X]\\mathbb{E}[Y]$$\n",
        "\n",
        "Let's go through some simulations!"
      ],
      "metadata": {
        "id": "H2qkCgduKUBN"
      }
    },
    {
      "cell_type": "code",
      "source": [
        "# Step 1: Simulate independent random variables\n",
        "np.random.seed(201)\n",
        "X_ind = np.random.randint(1, 7, 1000)  # Roll of die 1\n",
        "Y_ind = np.random.randint(1, 7, 1000)  # Roll of die 2\n",
        "\n",
        "# Step 2: Calculate covariance of independent variables\n",
        "cov_ind = np.cov(X_ind, Y_ind)[0, 1]\n",
        "print(f\"Covariance of independent variables: {cov_ind}\")\n",
        "\n",
        "# Step 3: Simulate dependent variables\n",
        "X_dep = np.random.randint(1, 10, 1000)\n",
        "Y_dep = 2 * X_dep + np.random.normal(0, 1, 1000)\n",
        "\n",
        "# Calculate covariance of dependent variables\n",
        "cov_dep = np.cov(X_dep, Y_dep)[0, 1]\n",
        "print(f\"Covariance of dependent variables: {cov_dep}\")"
      ],
      "metadata": {
        "colab": {
          "base_uri": "https://localhost:8080/"
        },
        "id": "acGzl_tNKVu1",
        "outputId": "454ea95b-17ca-479c-da4b-551a3ed4a176"
      },
      "execution_count": 32,
      "outputs": [
        {
          "output_type": "stream",
          "name": "stdout",
          "text": [
            "Covariance of independent variables: -0.09712712712712727\n",
            "Covariance of dependent variables: 12.798416177120513\n"
          ]
        }
      ]
    },
    {
      "cell_type": "markdown",
      "source": [
        "We see that independence implies 0 covariance and uncorrelatedness.\n",
        "\n",
        "However, the converse statement is false. Independence is not necessary for uncorrelatedness."
      ],
      "metadata": {
        "id": "muNGYGCoKZzb"
      }
    },
    {
      "cell_type": "code",
      "source": [
        "# Generate X uniformly from [-1, 1]\n",
        "np.random.seed(201)\n",
        "X = np.random.uniform(-1, 1, 10000)\n",
        "\n",
        "# Define Y as X^2\n",
        "Y = X**2\n",
        "\n",
        "# Calculate covariance\n",
        "cov_XY = np.cov(X, Y)[0, 1]\n",
        "print(f\"Covariance between X and Y: {cov_XY}\")\n",
        "\n",
        "# Create a scatter plot to visualize the relationship between X and Y\n",
        "plt.figure(figsize=(8, 6))\n",
        "plt.scatter(X, Y, color='blue', alpha=0.5, label='Y = X^2')\n",
        "plt.title('Scatter Plot of X and Y = X^2 (Non-linear relationship)')\n",
        "plt.xlabel('X')\n",
        "plt.ylabel('Y')\n",
        "plt.grid(True)\n",
        "plt.legend()\n",
        "plt.show()"
      ],
      "metadata": {
        "colab": {
          "base_uri": "https://localhost:8080/",
          "height": 582
        },
        "id": "N51lNdzXKXo1",
        "outputId": "70dffb62-25a9-4ae7-e6b2-7f7a5e2e4b95"
      },
      "execution_count": 33,
      "outputs": [
        {
          "output_type": "stream",
          "name": "stdout",
          "text": [
            "Covariance between X and Y: -5.442179332609252e-06\n"
          ]
        },
        {
          "output_type": "display_data",
          "data": {
            "text/plain": [
              "<Figure size 800x600 with 1 Axes>"
            ],
            "image/png": "[encoded data removed]"
          },
          "metadata": {}
        }
      ]
    },
    {
      "cell_type": "markdown",
      "source": [
        "See examples (dependent but uncorrelated) from the third row in the following picture."
      ],
      "metadata": {
        "id": "Hr9COBjhKd9f"
      }
    },
    {
      "cell_type": "markdown",
      "source": [
        "![Indep](https://upload.wikimedia.org/wikipedia/commons/thumb/d/d4/Correlation_examples2.svg/800px-Correlation_examples2.svg.png)"
      ],
      "metadata": {
        "id": "NxB7cQnuKeSt"
      }
    }
  ],
  "metadata": {
    "kernelspec": {
      "display_name": "312",
      "language": "python",
      "name": "python3"
    },
    "language_info": {
      "codemirror_mode": {
        "name": "ipython",
        "version": 3
      },
      "file_extension": ".py",
      "mimetype": "text/x-python",
      "name": "python",
      "nbconvert_exporter": "python",
      "pygments_lexer": "ipython3",
      "version": "3.12.0"
    },
    "colab": {
      "provenance": []
    }
  },
  "nbformat": 4,
  "nbformat_minor": 0
}